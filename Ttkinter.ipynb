{
 "cells": [
  {
   "cell_type": "code",
   "execution_count": 1,
   "metadata": {},
   "outputs": [],
   "source": [
    "from tkinter import  *\n",
    "from datetime import datetime"
   ]
  },
  {
   "cell_type": "code",
   "execution_count": 2,
   "metadata": {},
   "outputs": [],
   "source": [
    "tk=Tk()\n",
    "global circle\n",
    "circle = 0\n",
    "\n",
    "screen_width=tk.winfo_screenwidth()\n",
    "screen_height = tk.winfo_screenheight()\n",
    "\n",
    "def moved(event):\n",
    "    canvas.itemconfigure(tag, text=\"Cordinates = [ x: %r, y: %r]\" % (event.x, event.y))\n",
    "    x, y = event.x + 3, event.y + 7  \n",
    "    global circle\n",
    "    canvas.delete(circle)  \n",
    "    radius = 50  \n",
    "    x_max = x + radius\n",
    "    x_min = x - radius\n",
    "    y_max = y + radius\n",
    "    y_min = y - radius\n",
    "    circle = canvas.create_oval(x_max, y_max, x_min, y_min,fill=\"green\",width=10)\n",
    "\n",
    "canvas = Canvas(tk, width=screen_width, height=screen_height,bg=\"black\", relief='ridge',borderwidth=1)\n",
    "canvas.create_text(screen_width//2,20,font=(\"Purisa\",20),text=\"This is your screen resolution(approx):%dx%d\" % (screen_width, screen_height), fill=\"red\")\n",
    "canvas.bind(\"<Motion>\", moved)\n",
    "tag = canvas.create_text(screen_width//2,screen_height//2, font=(\"Purisa\", 22),text=\"\", fill=\"white\")\n",
    "canvas.pack()\n",
    "tk.title(\"Box Screen\")\n",
    "tk.mainloop()"
   ]
  }
 ],
 "metadata": {
  "kernelspec": {
   "display_name": "Python 3",
   "language": "python",
   "name": "python3"
  },
  "language_info": {
   "codemirror_mode": {
    "name": "ipython",
    "version": 3
   },
   "file_extension": ".py",
   "mimetype": "text/x-python",
   "name": "python",
   "nbconvert_exporter": "python",
   "pygments_lexer": "ipython3",
   "version": "3.7.6"
  }
 },
 "nbformat": 4,
 "nbformat_minor": 4
}
